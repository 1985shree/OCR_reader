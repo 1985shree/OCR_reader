{
 "cells": [
  {
   "cell_type": "code",
   "execution_count": 47,
   "id": "c1daea29",
   "metadata": {},
   "outputs": [],
   "source": [
    "import pandas as pd\n",
    "import numpy as np\n",
    "import os\n",
    "from os import path"
   ]
  },
  {
   "cell_type": "code",
   "execution_count": 48,
   "id": "51dfa98d",
   "metadata": {},
   "outputs": [
    {
     "data": {
      "text/plain": [
       "'/Users/shreetamakarmakar/code/1985shree/OCR_reader/notebooks'"
      ]
     },
     "execution_count": 48,
     "metadata": {},
     "output_type": "execute_result"
    }
   ],
   "source": [
    "pwd"
   ]
  },
  {
   "cell_type": "code",
   "execution_count": 49,
   "id": "b2f30712",
   "metadata": {},
   "outputs": [],
   "source": [
    "home_path = '/Users/shreetamakarmakar/code/1985shree/OCR_reader/notebooks'"
   ]
  },
  {
   "cell_type": "code",
   "execution_count": 64,
   "id": "f4f13902",
   "metadata": {},
   "outputs": [],
   "source": [
    "data_path = os.path.abspath(os.path.join(os.path.dirname(home_path), 'raw_data'))"
   ]
  },
  {
   "cell_type": "code",
   "execution_count": 65,
   "id": "2290691b",
   "metadata": {},
   "outputs": [],
   "source": [
    "file_dict = {}\n",
    "for fl in os.listdir(data_path):\n",
    "    if fl.endswith('.pdf'):\n",
    "         file_dict[f\"{'_'.join(fl.split(' '))}\"] = f'{data_path}/{fl}'\n",
    "        "
   ]
  },
  {
   "cell_type": "code",
   "execution_count": 66,
   "id": "6e836229",
   "metadata": {},
   "outputs": [
    {
     "data": {
      "text/plain": [
       "{'Rechnung_MP21064800487734.pdf': '/Users/shreetamakarmakar/code/1985shree/OCR_reader/raw_data/Rechnung_MP21064800487734.pdf',\n",
       " '9_Euro_ticket_invoice_.pdf': '/Users/shreetamakarmakar/code/1985shree/OCR_reader/raw_data/9 Euro ticket invoice .pdf',\n",
       " 'Deutsch_Perfekt-6_Monate_Gad.pdf': '/Users/shreetamakarmakar/code/1985shree/OCR_reader/raw_data/Deutsch Perfekt-6 Monate Gad.pdf',\n",
       " 'Marc_Ebel_Transfer.pdf': '/Users/shreetamakarmakar/code/1985shree/OCR_reader/raw_data/Marc Ebel Transfer.pdf',\n",
       " 'Rechnung_PN22064800952591.pdf': '/Users/shreetamakarmakar/code/1985shree/OCR_reader/raw_data/Rechnung_PN22064800952591.pdf',\n",
       " 'Chair_Rechnung.pdf': '/Users/shreetamakarmakar/code/1985shree/OCR_reader/raw_data/Chair Rechnung.pdf',\n",
       " 'DPD_nov_21_(1).pdf': '/Users/shreetamakarmakar/code/1985shree/OCR_reader/raw_data/DPD nov 21 (1).pdf',\n",
       " 'Radisson_Berlin_2021.pdf': '/Users/shreetamakarmakar/code/1985shree/OCR_reader/raw_data/Radisson Berlin 2021.pdf',\n",
       " 'Avis_2022_03_29_238827299.pdf': '/Users/shreetamakarmakar/code/1985shree/OCR_reader/raw_data/Avis_2022_03_29_238827299.pdf',\n",
       " 'Avis_2022_06_24_18077439.pdf': '/Users/shreetamakarmakar/code/1985shree/OCR_reader/raw_data/Avis_2022_06_24_18077439.pdf',\n",
       " 'Rechnung_PN22064801776930.pdf': '/Users/shreetamakarmakar/code/1985shree/OCR_reader/raw_data/Rechnung_PN22064801776930.pdf',\n",
       " 'Rechnung_PN22064801259149.pdf': '/Users/shreetamakarmakar/code/1985shree/OCR_reader/raw_data/Rechnung_PN22064801259149.pdf',\n",
       " 'Bill-_Oxygen_concentrator.pdf': '/Users/shreetamakarmakar/code/1985shree/OCR_reader/raw_data/Bill- Oxygen concentrator.pdf',\n",
       " 'Marc_Ebel_Bill_20220121_0001.pdf': '/Users/shreetamakarmakar/code/1985shree/OCR_reader/raw_data/Marc Ebel Bill_20220121_0001.pdf',\n",
       " 'charie_transfer_10_euros(2).pdf': '/Users/shreetamakarmakar/code/1985shree/OCR_reader/raw_data/charie transfer 10 euros(2).pdf',\n",
       " 'Arun_N26_to_shantu_CB.pdf': '/Users/shreetamakarmakar/code/1985shree/OCR_reader/raw_data/Arun N26 to shantu CB.pdf',\n",
       " 'Paola_1000$_April.pdf': '/Users/shreetamakarmakar/code/1985shree/OCR_reader/raw_data/Paola 1000$ April.pdf',\n",
       " 'Avis_2022_08_31_272013009.pdf': '/Users/shreetamakarmakar/code/1985shree/OCR_reader/raw_data/Avis_2022_08_31_272013009.pdf',\n",
       " 'Rechnung_MP21064800487747.pdf': '/Users/shreetamakarmakar/code/1985shree/OCR_reader/raw_data/Rechnung_MP21064800487747.pdf',\n",
       " 'Rechnung_PN22064803460488.pdf': '/Users/shreetamakarmakar/code/1985shree/OCR_reader/raw_data/Rechnung_PN22064803460488.pdf',\n",
       " 'Avis_2022_03_21_624550414.pdf': '/Users/shreetamakarmakar/code/1985shree/OCR_reader/raw_data/Avis_2022_03_21_624550414.pdf',\n",
       " 'Rechnung_PN22064801052535.pdf': '/Users/shreetamakarmakar/code/1985shree/OCR_reader/raw_data/Rechnung_PN22064801052535.pdf',\n",
       " 'Rdaisson.pdf': '/Users/shreetamakarmakar/code/1985shree/OCR_reader/raw_data/Rdaisson.pdf',\n",
       " 'Rechnung_MP21064800487747_(1).pdf': '/Users/shreetamakarmakar/code/1985shree/OCR_reader/raw_data/Rechnung_MP21064800487747 (1).pdf',\n",
       " 'New_Yorker.pdf': '/Users/shreetamakarmakar/code/1985shree/OCR_reader/raw_data/New Yorker.pdf',\n",
       " 'INV01817976.pdf': '/Users/shreetamakarmakar/code/1985shree/OCR_reader/raw_data/INV01817976.pdf',\n",
       " 'invoice_saneo_2021-08-17_1401.pdf': '/Users/shreetamakarmakar/code/1985shree/OCR_reader/raw_data/invoice_saneo_2021-08-17_1401.pdf',\n",
       " 'Transfer_Confirmation_-_health_AG_.pdf': '/Users/shreetamakarmakar/code/1985shree/OCR_reader/raw_data/Transfer Confirmation - health AG .pdf',\n",
       " 'TK_Transfer_80$_27.01.2022.pdf': '/Users/shreetamakarmakar/code/1985shree/OCR_reader/raw_data/TK Transfer 80$ 27.01.2022.pdf',\n",
       " 'Lexis_invoice_2.pdf': '/Users/shreetamakarmakar/code/1985shree/OCR_reader/raw_data/Lexis invoice 2.pdf',\n",
       " 'DPD_nov_21_(2).pdf': '/Users/shreetamakarmakar/code/1985shree/OCR_reader/raw_data/DPD nov 21 (2).pdf',\n",
       " 'Dropbox_payment_received,.pdf': '/Users/shreetamakarmakar/code/1985shree/OCR_reader/raw_data/Dropbox payment received,.pdf',\n",
       " 'Ikea_.pdf': '/Users/shreetamakarmakar/code/1985shree/OCR_reader/raw_data/Ikea .pdf',\n",
       " 'Avis_2022_08_27_522568769.pdf': '/Users/shreetamakarmakar/code/1985shree/OCR_reader/raw_data/Avis_2022_08_27_522568769.pdf'}"
      ]
     },
     "execution_count": 66,
     "metadata": {},
     "output_type": "execute_result"
    }
   ],
   "source": [
    "file_dict"
   ]
  },
  {
   "cell_type": "code",
   "execution_count": 25,
   "id": "2014f39b",
   "metadata": {},
   "outputs": [
    {
     "ename": "NameError",
     "evalue": "name 'dirname' is not defined",
     "output_type": "error",
     "traceback": [
      "\u001b[0;31m---------------------------------------------------------------------------\u001b[0m",
      "\u001b[0;31mNameError\u001b[0m                                 Traceback (most recent call last)",
      "\u001b[0;32m/var/folders/sl/ygshjd2x6x74vgfq6g4z9mk80000gn/T/ipykernel_71097/1713813125.py\u001b[0m in \u001b[0;36m<module>\u001b[0;34m\u001b[0m\n\u001b[0;32m----> 1\u001b[0;31m \u001b[0mfilepath\u001b[0m \u001b[0;34m=\u001b[0m \u001b[0mos\u001b[0m\u001b[0;34m.\u001b[0m\u001b[0mpath\u001b[0m\u001b[0;34m.\u001b[0m\u001b[0mjoin\u001b[0m\u001b[0;34m(\u001b[0m\u001b[0mdirname\u001b[0m\u001b[0;34m,\u001b[0m \u001b[0;34m'raw_files'\u001b[0m\u001b[0;34m)\u001b[0m\u001b[0;34m\u001b[0m\u001b[0;34m\u001b[0m\u001b[0m\n\u001b[0m",
      "\u001b[0;31mNameError\u001b[0m: name 'dirname' is not defined"
     ]
    }
   ],
   "source": [
    "filepath = os.path.join(dirname, 'raw_files')"
   ]
  },
  {
   "cell_type": "code",
   "execution_count": 8,
   "id": "a5592c49",
   "metadata": {},
   "outputs": [
    {
     "data": {
      "text/html": [
       "<div>\n",
       "<style scoped>\n",
       "    .dataframe tbody tr th:only-of-type {\n",
       "        vertical-align: middle;\n",
       "    }\n",
       "\n",
       "    .dataframe tbody tr th {\n",
       "        vertical-align: top;\n",
       "    }\n",
       "\n",
       "    .dataframe thead th {\n",
       "        text-align: right;\n",
       "    }\n",
       "</style>\n",
       "<table border=\"1\" class=\"dataframe\">\n",
       "  <thead>\n",
       "    <tr style=\"text-align: right;\">\n",
       "      <th></th>\n",
       "      <th>&lt;!DOCTYPE html&gt;</th>\n",
       "    </tr>\n",
       "  </thead>\n",
       "  <tbody>\n",
       "    <tr>\n",
       "      <th>0</th>\n",
       "      <td>&lt;html lang=\"en\" data-color-mode=\"auto\" data-li...</td>\n",
       "    </tr>\n",
       "    <tr>\n",
       "      <th>1</th>\n",
       "      <td>&lt;head&gt;</td>\n",
       "    </tr>\n",
       "    <tr>\n",
       "      <th>2</th>\n",
       "      <td>&lt;meta charset=\"utf-8\"&gt;</td>\n",
       "    </tr>\n",
       "    <tr>\n",
       "      <th>3</th>\n",
       "      <td>&lt;link rel=\"dns-prefetch\" href=\"https://githu...</td>\n",
       "    </tr>\n",
       "    <tr>\n",
       "      <th>4</th>\n",
       "      <td>&lt;link rel=\"dns-prefetch\" href=\"https://avata...</td>\n",
       "    </tr>\n",
       "  </tbody>\n",
       "</table>\n",
       "</div>"
      ],
      "text/plain": [
       "                                     <!DOCTYPE html>\n",
       "0  <html lang=\"en\" data-color-mode=\"auto\" data-li...\n",
       "1                                             <head>\n",
       "2                             <meta charset=\"utf-8\">\n",
       "3    <link rel=\"dns-prefetch\" href=\"https://githu...\n",
       "4    <link rel=\"dns-prefetch\" href=\"https://avata..."
      ]
     },
     "execution_count": 8,
     "metadata": {},
     "output_type": "execute_result"
    }
   ],
   "source": [
    "df.head()"
   ]
  },
  {
   "cell_type": "code",
   "execution_count": null,
   "id": "ba7a136a",
   "metadata": {},
   "outputs": [],
   "source": []
  }
 ],
 "metadata": {
  "kernelspec": {
   "display_name": "Python 3 (ipykernel)",
   "language": "python",
   "name": "python3"
  },
  "language_info": {
   "codemirror_mode": {
    "name": "ipython",
    "version": 3
   },
   "file_extension": ".py",
   "mimetype": "text/x-python",
   "name": "python",
   "nbconvert_exporter": "python",
   "pygments_lexer": "ipython3",
   "version": "3.8.13"
  },
  "toc": {
   "base_numbering": 1,
   "nav_menu": {},
   "number_sections": true,
   "sideBar": true,
   "skip_h1_title": false,
   "title_cell": "Table of Contents",
   "title_sidebar": "Contents",
   "toc_cell": false,
   "toc_position": {},
   "toc_section_display": true,
   "toc_window_display": false
  }
 },
 "nbformat": 4,
 "nbformat_minor": 5
}
